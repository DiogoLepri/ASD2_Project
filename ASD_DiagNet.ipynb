{
  "cells": [
    {
      "cell_type": "markdown",
      "metadata": {
        "id": "view-in-github",
        "colab_type": "text"
      },
      "source": [
        "<a href=\"https://colab.research.google.com/github/DiogoLepri/ASD2_Project/blob/main/ASD_DiagNet.ipynb\" target=\"_parent\"><img src=\"https://colab.research.google.com/assets/colab-badge.svg\" alt=\"Open In Colab\"/></a>"
      ]
    },
    {
      "cell_type": "code",
      "source": [
        "from google.colab import drive\n",
        "drive.mount('/content/drive')"
      ],
      "metadata": {
        "colab": {
          "base_uri": "https://localhost:8080/"
        },
        "id": "m5f1aDOP2ZIL",
        "outputId": "8ea53ded-6bf9-4c82-94cb-2f7efe31beac"
      },
      "execution_count": null,
      "outputs": [
        {
          "output_type": "stream",
          "name": "stdout",
          "text": [
            "Drive already mounted at /content/drive; to attempt to forcibly remount, call drive.mount(\"/content/drive\", force_remount=True).\n"
          ]
        }
      ]
    },
    {
      "cell_type": "code",
      "source": [
        "%cd /content/drive/MyDrive/ASD\n"
      ],
      "metadata": {
        "colab": {
          "base_uri": "https://localhost:8080/"
        },
        "id": "dJCYIsl53VvI",
        "outputId": "fc24192e-90d4-41c4-e2ae-1b85f846455b"
      },
      "execution_count": null,
      "outputs": [
        {
          "output_type": "stream",
          "name": "stdout",
          "text": [
            "/content/drive/MyDrive/ASD\n"
          ]
        }
      ]
    },
    {
      "cell_type": "code",
      "source": [
        "!ls -lh"
      ],
      "metadata": {
        "id": "VhNdZP3yl3aK",
        "outputId": "2a7991dd-684f-4947-f117-da538ed78150",
        "colab": {
          "base_uri": "https://localhost:8080/"
        }
      },
      "execution_count": null,
      "outputs": [
        {
          "output_type": "stream",
          "name": "stdout",
          "text": [
            "total 4.0K\n",
            "drwx------ 2 root root 4.0K Feb  9 20:23 ASD2_Project\n"
          ]
        }
      ]
    },
    {
      "cell_type": "code",
      "source": [
        "!curl -O https://raw.githubusercontent.com/preprocessed-connectomes-project/abide/master/download_abide_preproc.py\n"
      ],
      "metadata": {
        "colab": {
          "base_uri": "https://localhost:8080/"
        },
        "id": "82MYUFio3WBN",
        "outputId": "8896e81f-17c7-4430-e2fa-9322c0e74dca"
      },
      "execution_count": null,
      "outputs": [
        {
          "output_type": "stream",
          "name": "stdout",
          "text": [
            "  % Total    % Received % Xferd  Average Speed   Time    Time     Time  Current\n",
            "                                 Dload  Upload   Total   Spent    Left  Speed\n",
            "100 10777  100 10777    0     0  38894      0 --:--:-- --:--:-- --:--:-- 39047\n"
          ]
        }
      ]
    },
    {
      "cell_type": "code",
      "source": [
        "# Install necessary packages\n",
        "!pip install pandas numpy matplotlib scikit-learn torch pyprind scipy\n"
      ],
      "metadata": {
        "colab": {
          "base_uri": "https://localhost:8080/"
        },
        "id": "jYsEQtlvsCPj",
        "outputId": "8206bf4b-aade-4023-c36f-44ad0c46e240"
      },
      "execution_count": null,
      "outputs": [
        {
          "output_type": "stream",
          "name": "stdout",
          "text": [
            "Requirement already satisfied: pandas in /usr/local/lib/python3.11/dist-packages (2.2.2)\n",
            "Requirement already satisfied: numpy in /usr/local/lib/python3.11/dist-packages (1.26.4)\n",
            "Requirement already satisfied: matplotlib in /usr/local/lib/python3.11/dist-packages (3.10.0)\n",
            "Requirement already satisfied: scikit-learn in /usr/local/lib/python3.11/dist-packages (1.6.1)\n",
            "Requirement already satisfied: torch in /usr/local/lib/python3.11/dist-packages (2.5.1+cu124)\n",
            "Requirement already satisfied: pyprind in /usr/local/lib/python3.11/dist-packages (2.11.3)\n",
            "Requirement already satisfied: scipy in /usr/local/lib/python3.11/dist-packages (1.13.1)\n",
            "Requirement already satisfied: python-dateutil>=2.8.2 in /usr/local/lib/python3.11/dist-packages (from pandas) (2.8.2)\n",
            "Requirement already satisfied: pytz>=2020.1 in /usr/local/lib/python3.11/dist-packages (from pandas) (2025.1)\n",
            "Requirement already satisfied: tzdata>=2022.7 in /usr/local/lib/python3.11/dist-packages (from pandas) (2025.1)\n",
            "Requirement already satisfied: contourpy>=1.0.1 in /usr/local/lib/python3.11/dist-packages (from matplotlib) (1.3.1)\n",
            "Requirement already satisfied: cycler>=0.10 in /usr/local/lib/python3.11/dist-packages (from matplotlib) (0.12.1)\n",
            "Requirement already satisfied: fonttools>=4.22.0 in /usr/local/lib/python3.11/dist-packages (from matplotlib) (4.55.8)\n",
            "Requirement already satisfied: kiwisolver>=1.3.1 in /usr/local/lib/python3.11/dist-packages (from matplotlib) (1.4.8)\n",
            "Requirement already satisfied: packaging>=20.0 in /usr/local/lib/python3.11/dist-packages (from matplotlib) (24.2)\n",
            "Requirement already satisfied: pillow>=8 in /usr/local/lib/python3.11/dist-packages (from matplotlib) (11.1.0)\n",
            "Requirement already satisfied: pyparsing>=2.3.1 in /usr/local/lib/python3.11/dist-packages (from matplotlib) (3.2.1)\n",
            "Requirement already satisfied: joblib>=1.2.0 in /usr/local/lib/python3.11/dist-packages (from scikit-learn) (1.4.2)\n",
            "Requirement already satisfied: threadpoolctl>=3.1.0 in /usr/local/lib/python3.11/dist-packages (from scikit-learn) (3.5.0)\n",
            "Requirement already satisfied: filelock in /usr/local/lib/python3.11/dist-packages (from torch) (3.17.0)\n",
            "Requirement already satisfied: typing-extensions>=4.8.0 in /usr/local/lib/python3.11/dist-packages (from torch) (4.12.2)\n",
            "Requirement already satisfied: networkx in /usr/local/lib/python3.11/dist-packages (from torch) (3.4.2)\n",
            "Requirement already satisfied: jinja2 in /usr/local/lib/python3.11/dist-packages (from torch) (3.1.5)\n",
            "Requirement already satisfied: fsspec in /usr/local/lib/python3.11/dist-packages (from torch) (2024.10.0)\n",
            "Requirement already satisfied: nvidia-cuda-nvrtc-cu12==12.4.127 in /usr/local/lib/python3.11/dist-packages (from torch) (12.4.127)\n",
            "Requirement already satisfied: nvidia-cuda-runtime-cu12==12.4.127 in /usr/local/lib/python3.11/dist-packages (from torch) (12.4.127)\n",
            "Requirement already satisfied: nvidia-cuda-cupti-cu12==12.4.127 in /usr/local/lib/python3.11/dist-packages (from torch) (12.4.127)\n",
            "Requirement already satisfied: nvidia-cudnn-cu12==9.1.0.70 in /usr/local/lib/python3.11/dist-packages (from torch) (9.1.0.70)\n",
            "Requirement already satisfied: nvidia-cublas-cu12==12.4.5.8 in /usr/local/lib/python3.11/dist-packages (from torch) (12.4.5.8)\n",
            "Requirement already satisfied: nvidia-cufft-cu12==11.2.1.3 in /usr/local/lib/python3.11/dist-packages (from torch) (11.2.1.3)\n",
            "Requirement already satisfied: nvidia-curand-cu12==10.3.5.147 in /usr/local/lib/python3.11/dist-packages (from torch) (10.3.5.147)\n",
            "Requirement already satisfied: nvidia-cusolver-cu12==11.6.1.9 in /usr/local/lib/python3.11/dist-packages (from torch) (11.6.1.9)\n",
            "Requirement already satisfied: nvidia-cusparse-cu12==12.3.1.170 in /usr/local/lib/python3.11/dist-packages (from torch) (12.3.1.170)\n",
            "Requirement already satisfied: nvidia-nccl-cu12==2.21.5 in /usr/local/lib/python3.11/dist-packages (from torch) (2.21.5)\n",
            "Requirement already satisfied: nvidia-nvtx-cu12==12.4.127 in /usr/local/lib/python3.11/dist-packages (from torch) (12.4.127)\n",
            "Requirement already satisfied: nvidia-nvjitlink-cu12==12.4.127 in /usr/local/lib/python3.11/dist-packages (from torch) (12.4.127)\n",
            "Requirement already satisfied: triton==3.1.0 in /usr/local/lib/python3.11/dist-packages (from torch) (3.1.0)\n",
            "Requirement already satisfied: sympy==1.13.1 in /usr/local/lib/python3.11/dist-packages (from torch) (1.13.1)\n",
            "Requirement already satisfied: mpmath<1.4,>=1.1.0 in /usr/local/lib/python3.11/dist-packages (from sympy==1.13.1->torch) (1.3.0)\n",
            "Requirement already satisfied: six>=1.5 in /usr/local/lib/python3.11/dist-packages (from python-dateutil>=2.8.2->pandas) (1.17.0)\n",
            "Requirement already satisfied: MarkupSafe>=2.0 in /usr/local/lib/python3.11/dist-packages (from jinja2->torch) (3.0.2)\n"
          ]
        }
      ]
    },
    {
      "cell_type": "code",
      "source": [
        "!python download_abide_preproc.py -d rois_cc200 -p cpac -s filt_global -o /content/drive/MyDrive/ASD/ASD2_Project\n"
      ],
      "metadata": {
        "id": "rTHfQBrm7Fwt"
      },
      "execution_count": null,
      "outputs": []
    },
    {
      "cell_type": "code",
      "execution_count": null,
      "metadata": {
        "tags": [
          "parameters"
        ],
        "id": "AxZ2k03xrSED"
      },
      "outputs": [],
      "source": [
        "#options: cc200, dosenbach160, aal\n",
        "p_ROI = \"cc200\"\n",
        "p_fold = 10\n",
        "p_center = \"Stanford\"\n",
        "p_mode = \"whole\"\n",
        "p_augmentation = True\n",
        "p_Method = \"ASD-DiagNet\""
      ]
    },
    {
      "cell_type": "code",
      "execution_count": null,
      "metadata": {
        "colab": {
          "base_uri": "https://localhost:8080/"
        },
        "id": "zrD7lx8drSEG",
        "outputId": "a098da95-87ce-476e-c9e4-aa28e8e31b9e"
      },
      "outputs": [
        {
          "output_type": "stream",
          "name": "stdout",
          "text": [
            "*****List of patameters****\n",
            "ROI atlas:  cc200\n",
            "per Center or whole:  whole\n",
            "Method's name:  ASD-DiagNet\n",
            "Augmentation:  True\n"
          ]
        }
      ],
      "source": [
        "parameter_list = [p_ROI,p_fold,p_center,p_mode,p_augmentation,p_Method]\n",
        "print(\"*****List of patameters****\")\n",
        "print(\"ROI atlas: \",p_ROI)\n",
        "print(\"per Center or whole: \",p_mode)\n",
        "if p_mode == 'percenter':\n",
        "    print(\"Center's name: \",p_center)\n",
        "print(\"Method's name: \",p_Method)\n",
        "if p_Method == \"ASD-DiagNet\":\n",
        "    print(\"Augmentation: \",p_augmentation)\n"
      ]
    },
    {
      "cell_type": "code",
      "execution_count": null,
      "metadata": {
        "id": "viZUJTXVrSEG"
      },
      "outputs": [],
      "source": [
        "import pandas as pd\n",
        "import numpy as np\n",
        "import matplotlib.pyplot as plt\n",
        "import os\n",
        "from functools import reduce\n",
        "from sklearn.impute import SimpleImputer\n",
        "import time\n",
        "from torch.utils.data import Dataset\n",
        "from torch.utils.data import DataLoader\n",
        "import torch\n",
        "import pyprind\n",
        "import sys\n",
        "import pickle\n",
        "import torch.nn as nn\n",
        "import torch.nn.functional as F\n",
        "from sklearn.model_selection import KFold, StratifiedKFold\n",
        "import torch.optim as optim\n",
        "from sklearn.metrics import confusion_matrix\n",
        "from scipy import stats\n",
        "from sklearn import tree\n",
        "import functools\n",
        "import numpy.ma as ma # for masked arrays\n",
        "import pyprind\n",
        "import random\n",
        "from sklearn.svm import SVC\n",
        "from sklearn.ensemble import RandomForestClassifier"
      ]
    },
    {
      "cell_type": "markdown",
      "metadata": {
        "id": "eytgUXh8rSEG"
      },
      "source": [
        "## Importing the data"
      ]
    },
    {
      "cell_type": "code",
      "execution_count": null,
      "metadata": {
        "id": "zmppo2ysrSEH"
      },
      "outputs": [],
      "source": [
        "def get_key(filename):\n",
        "    f_split = filename.split('_')\n",
        "    if f_split[3] == 'rois':\n",
        "        key = '_'.join(f_split[0:3])\n",
        "    else:\n",
        "        key = '_'.join(f_split[0:2])\n",
        "    return key"
      ]
    },
    {
      "cell_type": "code",
      "execution_count": null,
      "metadata": {
        "colab": {
          "base_uri": "https://localhost:8080/"
        },
        "id": "TkHfHxozrSEH",
        "outputId": "2fb6dd68-0b92-4556-abd6-f974f4bccdaf"
      },
      "outputs": [
        {
          "output_type": "stream",
          "name": "stdout",
          "text": [
            "Number of files in data path: 884\n",
            "Number of rows in phenotypic data: 1112\n",
            "Number of labels created: 1035\n"
          ]
        }
      ],
      "source": [
        "# Define the main data path using the correct project directory\n",
        "data_main_path = data_main_path = f'/content/drive/MyDrive/ASD/ASD2_Project/Outputs/cpac/filt_global/rois_{p_ROI}'\n",
        "phenotype_path = '/content/drive/MyDrive/ASD/ASD2_Project/Phenotypic_V1_0b_preprocessed1.csv'\n",
        "\n",
        "# Check if the paths exist\n",
        "if not os.path.exists(data_main_path):\n",
        "    raise FileNotFoundError(f\"The directory {data_main_path} does not exist. Please download the data first.\")\n",
        "\n",
        "if not os.path.exists(phenotype_path):\n",
        "    raise FileNotFoundError(f\"The file {phenotype_path} does not exist. Please download the phenotypic file first.\")\n",
        "\n",
        "# List all files in the data path\n",
        "flist = os.listdir(data_main_path)\n",
        "print(f\"Number of files in data path: {len(flist)}\")\n",
        "\n",
        "# Replace filenames with their keys using get_key function\n",
        "for f in range(len(flist)):\n",
        "    flist[f] = get_key(flist[f])\n",
        "\n",
        "# Load the phenotypic data\n",
        "df_labels = pd.read_csv(phenotype_path)\n",
        "\n",
        "# Map DX_GROUP for binary classification: 1 (ASD) -> 1, 2 (Typically Developing) -> 0\n",
        "df_labels.DX_GROUP = df_labels.DX_GROUP.map({1: 1, 2: 0})\n",
        "print(f\"Number of rows in phenotypic data: {len(df_labels)}\")\n",
        "\n",
        "# Create a labels dictionary to store file IDs and their labels\n",
        "labels = {}\n",
        "for _, row in df_labels.iterrows():\n",
        "    file_id = row['FILE_ID']\n",
        "    y_label = row['DX_GROUP']\n",
        "    if file_id == 'no_filename':\n",
        "        continue\n",
        "    assert file_id not in labels, f\"Duplicate file_id found: {file_id}\"\n",
        "    labels[file_id] = y_label\n",
        "\n",
        "print(f\"Number of labels created: {len(labels)}\")\n"
      ]
    },
    {
      "cell_type": "markdown",
      "metadata": {
        "id": "9FJV9DRxrSEI"
      },
      "source": [
        "### Helper functions for computing correlations"
      ]
    },
    {
      "cell_type": "code",
      "execution_count": null,
      "metadata": {
        "id": "_1N3y9bNrSEI"
      },
      "outputs": [],
      "source": [
        "def get_label(filename):\n",
        "    if filename not in labels:\n",
        "        raise ValueError(f\"Filename {filename} not found in labels.\")\n",
        "    return labels[filename]\n",
        "\n",
        "\n",
        "\n",
        "def get_corr_data(filename):\n",
        "    found = False\n",
        "    for file in os.listdir(data_main_path):\n",
        "        if file.startswith(filename):\n",
        "            df = pd.read_csv(os.path.join(data_main_path, file), sep='\\t')\n",
        "            found = True\n",
        "            break  # Exit loop after finding the file\n",
        "\n",
        "    if not found:\n",
        "        print(f\"❌ No file found for {filename}\")\n",
        "        return None  # Return None if no file is found\n",
        "\n",
        "    with np.errstate(invalid=\"ignore\"):\n",
        "        corr = np.nan_to_num(np.corrcoef(df.T))\n",
        "        mask = np.invert(np.tri(corr.shape[0], k=-1, dtype=bool))\n",
        "        m = ma.masked_where(mask == 1, mask)\n",
        "        return ma.masked_where(m, corr).compressed()\n",
        "\n",
        "\n",
        "def get_corr_matrix(filename):\n",
        "    found = False\n",
        "    for file in os.listdir(data_main_path):\n",
        "        if file.startswith(filename):\n",
        "            try:\n",
        "                df = pd.read_csv(os.path.join(data_main_path, file), sep='\\t', engine='python')\n",
        "                if df.empty:\n",
        "                    print(f\"Empty data in file {file}. Skipping.\")\n",
        "                    continue\n",
        "                found = True\n",
        "                break\n",
        "            except pd.errors.ParserError as e:\n",
        "                print(f\"ParserError for file {file}: {e}\")\n",
        "                continue\n",
        "            except Exception as e:\n",
        "                print(f\"Unexpected error while reading {file}: {e}\")\n",
        "                continue\n",
        "\n",
        "    if not found:\n",
        "        print(f\"❌ No file found for {filename}\")\n",
        "        return None\n",
        "\n",
        "    with np.errstate(invalid=\"ignore\"):\n",
        "        corr = np.nan_to_num(np.corrcoef(df.T))\n",
        "        return corr\n",
        "\n",
        "\n",
        "\n",
        "def confusion(g_truth, predictions):\n",
        "    tn, fp, fn, tp = confusion_matrix(g_truth, predictions).ravel()\n",
        "    accuracy = (tp + tn) / (tp + fp + tn + fn)\n",
        "    sensitivity = tp / (tp + fn)\n",
        "    specificity = tn / (tn + fp)\n",
        "    return accuracy, sensitivity, specificity\n",
        "\n",
        "def get_regs(samplesnames, regnum):\n",
        "    datas = []\n",
        "    for sn in samplesnames:\n",
        "        if sn in all_corr:\n",
        "            datas.append(all_corr[sn][0])\n",
        "        else:\n",
        "            print(f\"Warning: {sn} not found in all_corr.\")\n",
        "    datas = np.array(datas)\n",
        "    if datas.size == 0:\n",
        "        raise ValueError(\"No valid data found in samples.\")\n",
        "\n",
        "    avg = np.mean(datas, axis=0)\n",
        "    highs = avg.argsort()[-regnum:][::-1]\n",
        "    lows = avg.argsort()[:regnum][::-1]\n",
        "    regions = np.concatenate((highs, lows), axis=0)\n",
        "    return regions\n",
        "\n",
        "\n"
      ]
    },
    {
      "cell_type": "markdown",
      "metadata": {
        "id": "QDIIPqgErSEI"
      },
      "source": [
        "## Helper fnuctions for computing correlations"
      ]
    },
    {
      "cell_type": "code",
      "execution_count": null,
      "metadata": {
        "id": "5YWIxSF0rSEI",
        "colab": {
          "base_uri": "https://localhost:8080/"
        },
        "outputId": "910b1e47-bb2e-44a8-b86a-0ef1791b906a"
      },
      "outputs": [
        {
          "output_type": "stream",
          "name": "stdout",
          "text": [
            "Loaded precomputed correlations\n"
          ]
        }
      ],
      "source": [
        "if not os.path.exists('/content/drive/MyDrive/ASD/ASD2_Project/correlations_file' + p_ROI + '.pkl'):\n",
        "    pbar = pyprind.ProgBar(len(flist))\n",
        "    all_corr = {}\n",
        "    for f in flist:\n",
        "        lab = get_label(f)\n",
        "        all_corr[f] = (get_corr_data(f), lab)\n",
        "        pbar.update()\n",
        "\n",
        "    print('Corr-computations finished')\n",
        "\n",
        "    pickle.dump(all_corr, open('/content/drive/MyDrive/ASD/ASD2_Project/correlations_file' + p_ROI + '.pkl', 'wb'))\n",
        "    print('Saving to file finished')\n",
        "\n",
        "else:\n",
        "    all_corr = pickle.load(open('/content/drive/MyDrive/ASD/ASD2_Project/correlations_file' + p_ROI + '.pkl', 'rb'))\n",
        "    print('Loaded precomputed correlations')"
      ]
    },
    {
      "cell_type": "markdown",
      "metadata": {
        "id": "FmDeKEzfrSEI"
      },
      "source": [
        "## Computing eigenvalues and eigenvector"
      ]
    },
    {
      "cell_type": "code",
      "execution_count": null,
      "metadata": {
        "id": "0hBn-b_DrSEJ",
        "colab": {
          "base_uri": "https://localhost:8080/"
        },
        "outputId": "92239a00-c51a-431f-f36e-15b1bb9ced8f"
      },
      "outputs": [
        {
          "output_type": "stream",
          "name": "stderr",
          "text": [
            "Processing files: 100%|██████████| 884/884 [01:50<00:00,  7.98file/s]"
          ]
        },
        {
          "output_type": "stream",
          "name": "stdout",
          "text": [
            "Computation finished.\n"
          ]
        },
        {
          "output_type": "stream",
          "name": "stderr",
          "text": [
            "\n"
          ]
        }
      ],
      "source": [
        "from tqdm import tqdm\n",
        "\n",
        "if p_Method == \"ASD-DiagNet\":\n",
        "    eig_data = {}\n",
        "\n",
        "    for f in tqdm(flist, desc=\"Processing files\", unit=\"file\"):\n",
        "        d = get_corr_matrix(f)\n",
        "        if d is None:  # Skip if no correlation matrix is found\n",
        "            print(f\"Skipping {f} due to missing correlation matrix.\")\n",
        "            continue\n",
        "\n",
        "        try:\n",
        "            eig_vals, eig_vecs = np.linalg.eig(d)\n",
        "        except np.linalg.LinAlgError as e:\n",
        "            print(f\"LinAlgError for {f}: {e}. Skipping.\")\n",
        "            continue\n",
        "\n",
        "        # Ensure eigenvectors are normalized once for all vectors\n",
        "        norms = np.linalg.norm(eig_vecs, axis=0)\n",
        "        if not np.allclose(norms, 1.0):\n",
        "            print(f\"Warning: Eigenvectors in {f} are not normalized.\")\n",
        "\n",
        "        sum_eigvals = np.sum(np.abs(eig_vals))\n",
        "        eig_pairs = [(np.abs(eig_vals[i]), eig_vecs[:, i], np.abs(eig_vals[i]) / sum_eigvals)\n",
        "                     for i in range(len(eig_vals))]\n",
        "\n",
        "        # Sort the (eigenvalue, eigenvector) tuples from high to low\n",
        "        eig_pairs.sort(key=lambda x: x[0], reverse=True)\n",
        "\n",
        "        eig_data[f] = {\n",
        "            'eigvals': np.array([ep[0] for ep in eig_pairs]),\n",
        "            'norm-eigvals': np.array([ep[2] for ep in eig_pairs]),\n",
        "            'eigvecs': [ep[1] for ep in eig_pairs]\n",
        "        }\n",
        "\n",
        "    print(\"Computation finished.\")\n"
      ]
    },
    {
      "cell_type": "markdown",
      "metadata": {
        "id": "5ND6H56grSEJ"
      },
      "source": [
        "## Calculating Eros similarity"
      ]
    },
    {
      "cell_type": "code",
      "execution_count": null,
      "metadata": {
        "id": "lglKfiIjrSEJ"
      },
      "outputs": [],
      "source": [
        "def norm_weights(sub_flist):\n",
        "    num_dim = len(eig_data[flist[0]]['eigvals'])\n",
        "    norm_weights = np.zeros(shape=num_dim)\n",
        "    for f in sub_flist:\n",
        "        norm_weights += eig_data[f]['norm-eigvals']\n",
        "    return norm_weights\n",
        "\n",
        "def cal_similarity(d1, d2, weights, lim=None):\n",
        "    res = 0.0\n",
        "    if lim is None:\n",
        "        weights_arr = weights.copy()\n",
        "    else:\n",
        "        weights_arr = weights[:lim].copy()\n",
        "        weights_arr /= np.sum(weights_arr)\n",
        "    for i,w in enumerate(weights_arr):\n",
        "        res += w*np.inner(d1[i], d2[i])\n",
        "    return res"
      ]
    },
    {
      "cell_type": "markdown",
      "metadata": {
        "id": "X5Z7JUOyrSEJ"
      },
      "source": [
        "## Defining dataset class"
      ]
    },
    {
      "cell_type": "code",
      "execution_count": null,
      "metadata": {
        "id": "2BxnOZAtrSEJ"
      },
      "outputs": [],
      "source": [
        "class CC200Dataset(Dataset):\n",
        "    def __init__(self, pkl_filename=None, data=None, samples_list=None,\n",
        "                 augmentation=False, aug_factor=1, num_neighbs=5,\n",
        "                 eig_data=None, similarity_fn=None, verbose=False,regs=None):\n",
        "        self.regs=regs\n",
        "        if pkl_filename is not None:\n",
        "            if verbose:\n",
        "                print ('Loading ..!', end=' ')\n",
        "            self.data = pickle.load(open(pkl_filename, 'rb'))\n",
        "        elif data is not None:\n",
        "            self.data = data.copy()\n",
        "\n",
        "        else:\n",
        "            sys.stderr.write('Eigther PKL file or data is needed!')\n",
        "            return\n",
        "\n",
        "        #if verbose:\n",
        "        #    print ('Preprocess..!', end='  ')\n",
        "        if samples_list is None:\n",
        "            self.flist = [f for f in self.data]\n",
        "        else:\n",
        "            self.flist = [f for f in samples_list]\n",
        "        self.labels = np.array([self.data[f][1] for f in self.flist])\n",
        "\n",
        "        current_flist = np.array(self.flist.copy())\n",
        "        current_lab0_flist = current_flist[self.labels == 0]\n",
        "        current_lab1_flist = current_flist[self.labels == 1]\n",
        "        #if verbose:\n",
        "        #    print(' Num Positive : ', len(current_lab1_flist), end=' ')\n",
        "        #    print(' Num Negative : ', len(current_lab0_flist), end=' ')\n",
        "\n",
        "\n",
        "        if augmentation:\n",
        "            self.num_data = aug_factor * len(self.flist)\n",
        "            self.neighbors = {}\n",
        "            pbar = pyprind.ProgBar(len(self.flist))\n",
        "            weights = norm_weights(samples_list)#??\n",
        "            for f in self.flist:\n",
        "                label = self.data[f][1]\n",
        "                candidates = (set(current_lab0_flist) if label == 0 else set(current_lab1_flist))\n",
        "                candidates.remove(f)\n",
        "                eig_f = eig_data[f]['eigvecs']\n",
        "                sim_list = []\n",
        "                for cand in candidates:\n",
        "                    eig_cand = eig_data[cand]['eigvecs']\n",
        "                    sim = similarity_fn(eig_f, eig_cand,weights)\n",
        "                    sim_list.append((sim, cand))\n",
        "                sim_list.sort(key=lambda x: x[0], reverse=True)\n",
        "                self.neighbors[f] = [item[1] for item in sim_list[:num_neighbs]]#list(candidates)#[item[1] for item in sim_list[:num_neighbs]]\n",
        "\n",
        "        else:\n",
        "            self.num_data = len(self.flist)\n",
        "\n",
        "\n",
        "    def __getitem__(self, index):\n",
        "        if index < len(self.flist):\n",
        "            fname = self.flist[index]\n",
        "            data = self.data[fname][0].copy() #get_corr_data(fname, mode=cal_mode)\n",
        "            data = data[self.regs].copy()\n",
        "            label = (self.labels[index],)\n",
        "            return torch.FloatTensor(data), torch.FloatTensor(label)\n",
        "        else:\n",
        "            f1 = self.flist[index % len(self.flist)]\n",
        "            d1, y1 = self.data[f1][0], self.data[f1][1]\n",
        "            d1=d1[self.regs]\n",
        "            f2 = np.random.choice(self.neighbors[f1])\n",
        "            d2, y2 = self.data[f2][0], self.data[f2][1]\n",
        "            d2=d2[self.regs]\n",
        "            assert y1 == y2\n",
        "            r = np.random.uniform(low=0, high=1)\n",
        "            label = (y1,)\n",
        "            data = r*d1 + (1-r)*d2\n",
        "            return torch.FloatTensor(data), torch.FloatTensor(label)\n",
        "\n",
        "    def __len__(self):\n",
        "        return self.num_data"
      ]
    },
    {
      "cell_type": "markdown",
      "metadata": {
        "id": "smp9m7uMrSEK"
      },
      "source": [
        "## Definig data loader function"
      ]
    },
    {
      "cell_type": "code",
      "execution_count": null,
      "metadata": {
        "id": "Ej-l0ufFrSEK"
      },
      "outputs": [],
      "source": [
        "def get_loader(pkl_filename=None, data=None, samples_list=None,\n",
        "               batch_size=64,\n",
        "               num_workers=1, mode='train',\n",
        "               *, augmentation=False, aug_factor=1, num_neighbs=5,\n",
        "                 eig_data=None, similarity_fn=None, verbose=False,regions=None):\n",
        "    \"\"\"Build and return data loader.\"\"\"\n",
        "    if mode == 'train':\n",
        "        shuffle = True\n",
        "    else:\n",
        "        shuffle = False\n",
        "        augmentation=False\n",
        "\n",
        "    dataset = CC200Dataset(pkl_filename=pkl_filename, data=data, samples_list=samples_list,\n",
        "                           augmentation=augmentation, aug_factor=aug_factor,\n",
        "                           eig_data=eig_data, similarity_fn=similarity_fn, verbose=verbose,regs=regions)\n",
        "\n",
        "    data_loader = DataLoader(dataset,\n",
        "                             batch_size=batch_size,\n",
        "                             shuffle=shuffle,\n",
        "                             num_workers=num_workers)\n",
        "\n",
        "    return data_loader"
      ]
    },
    {
      "cell_type": "markdown",
      "metadata": {
        "id": "-UW0U9B2rSEK"
      },
      "source": [
        "## Defining Autoencoder class"
      ]
    },
    {
      "cell_type": "code",
      "execution_count": null,
      "metadata": {
        "id": "yw6z0yFvrSEK",
        "colab": {
          "base_uri": "https://localhost:8080/"
        },
        "outputId": "2ed87a7a-2871-41c8-8a44-0649db0de3bf"
      },
      "outputs": [
        {
          "output_type": "execute_result",
          "data": {
            "text/plain": [
              "MTAutoEncoder(\n",
              "  (fc_encoder): Linear(in_features=990, out_features=200, bias=True)\n",
              "  (classifier): Sequential(\n",
              "    (0): Linear(in_features=200, out_features=1, bias=True)\n",
              "  )\n",
              ")"
            ]
          },
          "metadata": {},
          "execution_count": 43
        }
      ],
      "source": [
        "class MTAutoEncoder(nn.Module):\n",
        "    def __init__(self, num_inputs=990,\n",
        "                 num_latent=200, tied=True,\n",
        "                 num_classes=2, use_dropout=False):\n",
        "        super(MTAutoEncoder, self).__init__()\n",
        "        self.tied = tied\n",
        "        self.num_latent = num_latent\n",
        "\n",
        "        self.fc_encoder = nn.Linear(num_inputs, num_latent)\n",
        "\n",
        "        if not tied:\n",
        "            self.fc_decoder = nn.Linear(num_latent, num_inputs)\n",
        "\n",
        "        self.fc_encoder = nn.Linear(num_inputs, num_latent)\n",
        "\n",
        "        if use_dropout:\n",
        "            self.classifier = nn.Sequential (\n",
        "                nn.Dropout(p=0.5),\n",
        "                nn.Linear(self.num_latent, 1),\n",
        "\n",
        "            )\n",
        "        else:\n",
        "            self.classifier = nn.Sequential (\n",
        "                nn.Linear(self.num_latent, 1),\n",
        "            )\n",
        "\n",
        "\n",
        "    def forward(self, x, eval_classifier=False):\n",
        "        x = self.fc_encoder(x)\n",
        "        x = torch.tanh(x)\n",
        "        if eval_classifier:\n",
        "            x_logit = self.classifier(x)\n",
        "        else:\n",
        "            x_logit = None\n",
        "\n",
        "        if self.tied:\n",
        "            x = F.linear(x, self.fc_encoder.weight.t())\n",
        "        else:\n",
        "            x = self.fc_decoder(x)\n",
        "\n",
        "        return x, x_logit\n",
        "\n",
        "mtae = MTAutoEncoder()\n",
        "\n",
        "mtae"
      ]
    },
    {
      "cell_type": "markdown",
      "metadata": {
        "id": "RT8hWAt3rSEK"
      },
      "source": [
        "## Defining training and testing functions"
      ]
    },
    {
      "cell_type": "code",
      "execution_count": null,
      "metadata": {
        "id": "E_fKyAQ4rSEK"
      },
      "outputs": [],
      "source": [
        "def train(model, epoch, train_loader, p_bernoulli=None, mode='both', lam_factor=1.0):\n",
        "    model.train()\n",
        "    train_losses = []\n",
        "    for i,(batch_x,batch_y) in enumerate(train_loader):\n",
        "        if len(batch_x) != batch_size:\n",
        "            continue\n",
        "        if p_bernoulli is not None:\n",
        "            if i == 0:\n",
        "                p_tensor = torch.ones_like(batch_x).to(device)*p_bernoulli\n",
        "            rand_bernoulli = torch.bernoulli(p_tensor).to(device)\n",
        "\n",
        "        data, target = batch_x.to(device), batch_y.to(device)\n",
        "        optimizer.zero_grad()\n",
        "\n",
        "        if mode in ['both', 'ae']:\n",
        "            if p_bernoulli is not None:\n",
        "                rec_noisy, _ = model(data*rand_bernoulli, False)\n",
        "                loss_ae = criterion_ae(rec_noisy, data) / len(batch_x)\n",
        "            else:\n",
        "                rec, _ = model(data, False)\n",
        "                loss_ae = criterion_ae(rec, data) / len(batch_x)\n",
        "\n",
        "        if mode in ['both', 'clf']:\n",
        "            rec_clean, logits = model(data, True)\n",
        "            loss_clf = criterion_clf(logits, target)\n",
        "\n",
        "        if mode == 'both':\n",
        "            loss_total = loss_ae + lam_factor*loss_clf\n",
        "            train_losses.append([loss_ae.detach().cpu().numpy(),\n",
        "                                 loss_clf.detach().cpu().numpy()])\n",
        "        elif mode == 'ae':\n",
        "            loss_total = loss_ae\n",
        "            train_losses.append([loss_ae.detach().cpu().numpy(),\n",
        "                                 0.0])\n",
        "        elif mode == 'clf':\n",
        "            loss_total = loss_clf\n",
        "            train_losses.append([0.0,\n",
        "                                 loss_clf.detach().cpu().numpy()])\n",
        "\n",
        "        loss_total.backward()\n",
        "        optimizer.step()\n",
        "\n",
        "    return train_losses\n",
        "\n",
        "def test(model, criterion, test_loader,\n",
        "         eval_classifier=False, num_batch=None):\n",
        "    test_loss, n_test, correct = 0.0, 0, 0\n",
        "    all_predss=[]\n",
        "    if eval_classifier:\n",
        "        y_true, y_pred = [], []\n",
        "    with torch.no_grad():\n",
        "        model.eval()\n",
        "        for i,(batch_x,batch_y) in enumerate(test_loader, 1):\n",
        "            if num_batch is not None:\n",
        "                if i >= num_batch:\n",
        "                    continue\n",
        "            data = batch_x.to(device)\n",
        "            rec, logits = model(data, eval_classifier)\n",
        "\n",
        "            test_loss += criterion(rec, data).detach().cpu().numpy()\n",
        "            n_test += len(batch_x)\n",
        "            if eval_classifier:\n",
        "                proba = torch.sigmoid(logits).detach().cpu().numpy()\n",
        "                preds = np.ones_like(proba, dtype=np.int32)\n",
        "                preds[proba < 0.5] = 0\n",
        "                all_predss.extend(preds)###????\n",
        "                y_arr = np.array(batch_y, dtype=np.int32)\n",
        "\n",
        "                correct += np.sum(preds == y_arr)\n",
        "                y_true.extend(y_arr.tolist())\n",
        "                y_pred.extend(proba.tolist())\n",
        "        mlp_acc,mlp_sens,mlp_spef = confusion(y_true,all_predss)\n",
        "\n",
        "    return  mlp_acc,mlp_sens,mlp_spef#,correct/n_test\n",
        "\n",
        "\n"
      ]
    },
    {
      "cell_type": "code",
      "execution_count": null,
      "metadata": {
        "id": "RlCZlkS3rSEL",
        "colab": {
          "base_uri": "https://localhost:8080/"
        },
        "outputId": "288f4a02-eb92-4d25-ecb7-6307007bc0c6"
      },
      "outputs": [
        {
          "output_type": "stream",
          "name": "stdout",
          "text": [
            "cuda\n"
          ]
        }
      ],
      "source": [
        "device = torch.device(\"cuda\" if torch.cuda.is_available() else \"cpu\")\n",
        "print(device)"
      ]
    },
    {
      "cell_type": "code",
      "execution_count": null,
      "metadata": {
        "scrolled": true,
        "id": "UVt8WWarrSEL",
        "colab": {
          "base_uri": "https://localhost:8080/"
        },
        "outputId": "274977f0-325a-4756-9ff7-722a43af9589"
      },
      "outputs": [
        {
          "output_type": "stream",
          "name": "stdout",
          "text": [
            "num_corr:   19900\n",
            "4975\n",
            "p_bernoulli:  None\n",
            "augmentaiton:  True aug_factor:  2 num_neighbs:  5 lim4sim:  2\n",
            "use_dropout:  False \n",
            "\n",
            "(0.6853932584269663, 0.6097560975609756, 0.75)\n",
            "(0.6629213483146067, 0.6829268292682927, 0.6458333333333334)\n",
            "(0.7191011235955056, 0.5609756097560976, 0.8541666666666666)\n",
            "(0.7303370786516854, 0.6829268292682927, 0.7708333333333334)\n",
            "(0.6931818181818182, 0.5853658536585366, 0.7872340425531915)\n",
            "(0.7045454545454546, 0.6585365853658537, 0.7446808510638298)\n",
            "(0.6931818181818182, 0.5853658536585366, 0.7872340425531915)\n",
            "(0.6931818181818182, 0.7073170731707317, 0.6808510638297872)\n",
            "(0.6363636363636364, 0.65, 0.625)\n",
            "(0.6818181818181818, 0.725, 0.6458333333333334)\n",
            "averages:\n",
            "[0.69000255 0.64481707 0.72916667]\n",
            "299.17334032058716\n",
            "(0.7415730337078652, 0.6097560975609756, 0.8541666666666666)\n",
            "(0.651685393258427, 0.6097560975609756, 0.6875)\n",
            "(0.6853932584269663, 0.5609756097560976, 0.7916666666666666)\n",
            "(0.7191011235955056, 0.5609756097560976, 0.8541666666666666)\n",
            "(0.7045454545454546, 0.6585365853658537, 0.7446808510638298)\n",
            "(0.6818181818181818, 0.5609756097560976, 0.7872340425531915)\n",
            "(0.6136363636363636, 0.5365853658536586, 0.6808510638297872)\n",
            "(0.75, 0.7804878048780488, 0.723404255319149)\n",
            "(0.7045454545454546, 0.725, 0.6875)\n",
            "(0.7272727272727273, 0.525, 0.8958333333333334)\n",
            "averages:\n",
            "[0.69397983 0.62881098 0.74993351]\n",
            "593.2680335044861\n",
            "(0.6741573033707865, 0.6341463414634146, 0.7083333333333334)\n",
            "(0.5842696629213483, 0.3170731707317073, 0.8125)\n",
            "(0.6741573033707865, 0.6585365853658537, 0.6875)\n",
            "(0.7640449438202247, 0.8048780487804879, 0.7291666666666666)\n",
            "(0.75, 0.675, 0.8125)\n",
            "(0.6590909090909091, 0.675, 0.6458333333333334)\n",
            "(0.6818181818181818, 0.5365853658536586, 0.8085106382978723)\n",
            "(0.6704545454545454, 0.5609756097560976, 0.7659574468085106)\n",
            "(0.7613636363636364, 0.6585365853658537, 0.851063829787234)\n",
            "(0.6704545454545454, 0.6829268292682927, 0.6595744680851063)\n",
            "averages:\n",
            "[0.69231359 0.62599593 0.74932033]\n",
            "888.3899688720703\n",
            "(0.6741573033707865, 0.6097560975609756, 0.7291666666666666)\n",
            "(0.7640449438202247, 0.6097560975609756, 0.8958333333333334)\n",
            "(0.7415730337078652, 0.7560975609756098, 0.7291666666666666)\n",
            "(0.7303370786516854, 0.6585365853658537, 0.7916666666666666)\n",
            "(0.6590909090909091, 0.5853658536585366, 0.723404255319149)\n",
            "(0.7045454545454546, 0.6097560975609756, 0.7872340425531915)\n",
            "(0.7727272727272727, 0.6341463414634146, 0.8936170212765957)\n",
            "(0.6931818181818182, 0.5853658536585366, 0.7872340425531915)\n",
            "(0.625, 0.6, 0.6458333333333334)\n",
            "(0.6477272727272727, 0.55, 0.7291666666666666)\n",
            "averages:\n",
            "[0.69454482 0.62446646 0.75479832]\n",
            "1183.3671596050262\n",
            "(0.7303370786516854, 0.6097560975609756, 0.8333333333333334)\n",
            "(0.6966292134831461, 0.7560975609756098, 0.6458333333333334)\n",
            "(0.6292134831460674, 0.6097560975609756, 0.6458333333333334)\n",
            "(0.7752808988764045, 0.7317073170731707, 0.8125)\n",
            "(0.7159090909090909, 0.7804878048780488, 0.6595744680851063)\n",
            "(0.6704545454545454, 0.5609756097560976, 0.7659574468085106)\n",
            "(0.6022727272727273, 0.34146341463414637, 0.8297872340425532)\n",
            "(0.7159090909090909, 0.8048780487804879, 0.6382978723404256)\n",
            "(0.6363636363636364, 0.525, 0.7291666666666666)\n",
            "(0.6931818181818182, 0.675, 0.7083333333333334)\n",
            "averages:\n",
            "[0.69294688 0.62747561 0.74921099]\n",
            "1478.9744935035706\n",
            "(0.6404494382022472, 0.4878048780487805, 0.7708333333333334)\n",
            "(0.6404494382022472, 0.5609756097560976, 0.7083333333333334)\n",
            "(0.7415730337078652, 0.5853658536585366, 0.875)\n",
            "(0.7303370786516854, 0.5609756097560976, 0.875)\n",
            "(0.6704545454545454, 0.6341463414634146, 0.7021276595744681)\n",
            "(0.75, 0.7804878048780488, 0.723404255319149)\n",
            "(0.7045454545454546, 0.6829268292682927, 0.723404255319149)\n",
            "(0.6590909090909091, 0.5365853658536586, 0.7659574468085106)\n",
            "(0.7045454545454546, 0.65, 0.75)\n",
            "(0.7272727272727273, 0.725, 0.7291666666666666)\n",
            "averages:\n",
            "[0.69360104 0.62630081 0.75139628]\n",
            "1775.1283311843872\n",
            "(0.6067415730337079, 0.6585365853658537, 0.5625)\n",
            "(0.7528089887640449, 0.7804878048780488, 0.7291666666666666)\n",
            "(0.5955056179775281, 0.43902439024390244, 0.7291666666666666)\n",
            "(0.7078651685393258, 0.6585365853658537, 0.75)\n",
            "(0.7954545454545454, 0.7804878048780488, 0.8085106382978723)\n",
            "(0.7045454545454546, 0.6341463414634146, 0.7659574468085106)\n",
            "(0.7386363636363636, 0.7317073170731707, 0.7446808510638298)\n",
            "(0.6590909090909091, 0.6097560975609756, 0.7021276595744681)\n",
            "(0.7159090909090909, 0.65, 0.7708333333333334)\n",
            "(0.6704545454545454, 0.55, 0.7708333333333334)\n",
            "averages:\n",
            "[0.69375821 0.62958188 0.74882219]\n",
            "2071.3890085220337\n",
            "(0.6629213483146067, 0.5609756097560976, 0.75)\n",
            "(0.651685393258427, 0.5121951219512195, 0.7708333333333334)\n",
            "(0.651685393258427, 0.5853658536585366, 0.7083333333333334)\n",
            "(0.7640449438202247, 0.6585365853658537, 0.8541666666666666)\n",
            "(0.7272727272727273, 0.6341463414634146, 0.8085106382978723)\n",
            "(0.7159090909090909, 0.7317073170731707, 0.7021276595744681)\n",
            "(0.6590909090909091, 0.4878048780487805, 0.8085106382978723)\n",
            "(0.6818181818181818, 0.6585365853658537, 0.7021276595744681)\n",
            "(0.7045454545454546, 0.65, 0.75)\n",
            "(0.7045454545454546, 0.5, 0.875)\n",
            "averages:\n",
            "[0.69358242 0.625625   0.75183954]\n",
            "2368.795735836029\n",
            "(0.7528089887640449, 0.7073170731707317, 0.7916666666666666)\n",
            "(0.7191011235955056, 0.6829268292682927, 0.75)\n",
            "(0.7752808988764045, 0.7317073170731707, 0.8125)\n",
            "(0.7415730337078652, 0.7560975609756098, 0.7291666666666666)\n",
            "(0.7045454545454546, 0.6341463414634146, 0.7659574468085106)\n",
            "(0.6590909090909091, 0.6341463414634146, 0.6808510638297872)\n",
            "(0.6818181818181818, 0.5121951219512195, 0.8297872340425532)\n",
            "(0.6704545454545454, 0.7073170731707317, 0.6382978723404256)\n",
            "(0.7386363636363636, 0.6, 0.8541666666666666)\n",
            "(0.625, 0.65, 0.6041666666666666)\n",
            "averages:\n",
            "[0.69505448 0.6296206  0.75115248]\n",
            "2666.0597553253174\n",
            "(0.797752808988764, 0.6829268292682927, 0.8958333333333334)\n",
            "(0.651685393258427, 0.4634146341463415, 0.8125)\n",
            "(0.797752808988764, 0.7560975609756098, 0.8333333333333334)\n",
            "(0.6292134831460674, 0.5365853658536586, 0.7083333333333334)\n",
            "(0.6704545454545454, 0.6341463414634146, 0.7021276595744681)\n",
            "(0.7386363636363636, 0.7073170731707317, 0.7659574468085106)\n",
            "(0.6818181818181818, 0.5853658536585366, 0.7659574468085106)\n",
            "(0.6136363636363636, 0.5121951219512195, 0.7021276595744681)\n",
            "(0.7727272727272727, 0.725, 0.8125)\n",
            "(0.7045454545454546, 0.575, 0.8125)\n",
            "averages:\n",
            "[0.69613126 0.62843902 0.75414894]\n",
            "2963.3376042842865\n"
          ]
        }
      ],
      "source": [
        "\n",
        "if p_Method == \"ASD-DiagNet\" and p_mode == \"whole\":\n",
        "\n",
        "    num_corr = len(all_corr[flist[0]][0])\n",
        "    print(\"num_corr:  \",num_corr)\n",
        "\n",
        "    start =time.time()\n",
        "    batch_size = 8\n",
        "    learning_rate_ae, learning_rate_clf = 0.0001, 0.0001\n",
        "    num_epochs = 25\n",
        "\n",
        "    p_bernoulli = None\n",
        "    augmentation = p_augmentation\n",
        "    use_dropout = False\n",
        "\n",
        "    aug_factor = 2\n",
        "    num_neighbs = 5\n",
        "    lim4sim = 2\n",
        "    n_lat = int(num_corr/4)\n",
        "    print(n_lat)\n",
        "    start= time.time()\n",
        "\n",
        "    print('p_bernoulli: ', p_bernoulli)\n",
        "    print('augmentaiton: ', augmentation, 'aug_factor: ', aug_factor,\n",
        "          'num_neighbs: ', num_neighbs, 'lim4sim: ', lim4sim)\n",
        "    print('use_dropout: ', use_dropout, '\\n')\n",
        "\n",
        "\n",
        "    sim_function = functools.partial(cal_similarity, lim=lim4sim)\n",
        "    crossval_res_kol=[]\n",
        "    y_arr = np.array([get_label(f) for f in flist])\n",
        "    flist = np.array(flist)\n",
        "    kk=0\n",
        "    for rp in range(10):\n",
        "        kf = StratifiedKFold(n_splits=p_fold, random_state=1, shuffle=True)\n",
        "        np.random.shuffle(flist)\n",
        "        y_arr = np.array([get_label(f) for f in flist])\n",
        "        for kk,(train_index, test_index) in enumerate(kf.split(flist, y_arr)):\n",
        "            train_samples, test_samples = flist[train_index], flist[test_index]\n",
        "\n",
        "\n",
        "            verbose = (True if (kk == 0) else False)\n",
        "\n",
        "            regions_inds = get_regs(train_samples,int(num_corr/4))\n",
        "\n",
        "            num_inpp = len(regions_inds)\n",
        "            n_lat = int(num_inpp/2)\n",
        "            train_loader=get_loader(data=all_corr, samples_list=train_samples,\n",
        "                                    batch_size=batch_size, mode='train',\n",
        "                                    augmentation=augmentation, aug_factor=aug_factor,\n",
        "                                    num_neighbs=num_neighbs, eig_data=eig_data, similarity_fn=sim_function,\n",
        "                                    verbose=verbose,regions=regions_inds)\n",
        "\n",
        "            test_loader=get_loader(data=all_corr, samples_list=test_samples,\n",
        "                                   batch_size=batch_size, mode='test', augmentation=False,\n",
        "                                   verbose=verbose,regions=regions_inds)\n",
        "\n",
        "            model = MTAutoEncoder(tied=True, num_inputs=num_inpp, num_latent=n_lat, use_dropout=use_dropout)\n",
        "            model.to(device)\n",
        "            criterion_ae = nn.MSELoss(reduction='sum')\n",
        "            criterion_clf = nn.BCEWithLogitsLoss()\n",
        "            optimizer = optim.SGD([{'params': model.fc_encoder.parameters(), 'lr': learning_rate_ae},\n",
        "                                   {'params': model.classifier.parameters(), 'lr': learning_rate_clf}],\n",
        "                                  momentum=0.9)\n",
        "\n",
        "            for epoch in range(1, num_epochs+1):\n",
        "                if epoch <= 20:\n",
        "                    train_losses = train(model, epoch, train_loader, p_bernoulli, mode='both')\n",
        "                else:\n",
        "                    train_losses = train(model, epoch, train_loader, p_bernoulli, mode='clf')\n",
        "\n",
        "\n",
        "            res_mlp = test(model, criterion_ae, test_loader, eval_classifier=True)\n",
        "            print(test(model, criterion_ae, test_loader, eval_classifier=True))\n",
        "            crossval_res_kol.append(res_mlp)\n",
        "        print(\"averages:\")\n",
        "        print(np.mean(np.array(crossval_res_kol),axis = 0))\n",
        "        finish= time.time()\n",
        "\n",
        "        print(finish-start)\n",
        "\n"
      ]
    },
    {
      "cell_type": "code",
      "execution_count": null,
      "metadata": {
        "id": "GFhXgVnCrSEL",
        "colab": {
          "base_uri": "https://localhost:8080/",
          "height": 622
        },
        "outputId": "a75be242-34d4-40d0-b08c-e51db35695aa"
      },
      "outputs": [
        {
          "output_type": "stream",
          "name": "stdout",
          "text": [
            "🚀 Starting per-center ASD-DiagNet training...\n",
            "✅ all_corr loaded: 884 subjects\n",
            "✅ flist length: 884\n",
            "✅ p_center: Stanford\n",
            "✅ Found 884 files in data path.\n",
            "✅ Processing 36 subjects from center: Stanford\n",
            "🔧 Training Parameters: batch_size=8, num_epochs=25, learning_rate=0.0001\n",
            "Augmentation=True, aug_factor=2, num_neighbs=5, lim4sim=2, use_dropout=False\n",
            "\n",
            "========================\n",
            "🚀 Starting Repeat 1/10\n",
            "📂 Fold 1/10 in Repeat 1...\n",
            "✅ Fold 1 Results: (0.5, 0.0, 1.0)\n",
            "📂 Fold 2/10 in Repeat 1...\n"
          ]
        },
        {
          "output_type": "error",
          "ename": "KeyboardInterrupt",
          "evalue": "",
          "traceback": [
            "\u001b[0;31m---------------------------------------------------------------------------\u001b[0m",
            "\u001b[0;31mKeyboardInterrupt\u001b[0m                         Traceback (most recent call last)",
            "\u001b[0;32m<ipython-input-45-cadb420bf19b>\u001b[0m in \u001b[0;36m<cell line: 0>\u001b[0;34m()\u001b[0m\n\u001b[1;32m    114\u001b[0m \u001b[0;34m\u001b[0m\u001b[0m\n\u001b[1;32m    115\u001b[0m         \u001b[0;31m# Initialize Model\u001b[0m\u001b[0;34m\u001b[0m\u001b[0;34m\u001b[0m\u001b[0m\n\u001b[0;32m--> 116\u001b[0;31m         \u001b[0mmodel\u001b[0m \u001b[0;34m=\u001b[0m \u001b[0mMTAutoEncoder\u001b[0m\u001b[0;34m(\u001b[0m\u001b[0mtied\u001b[0m\u001b[0;34m=\u001b[0m\u001b[0;32mTrue\u001b[0m\u001b[0;34m,\u001b[0m \u001b[0mnum_inputs\u001b[0m\u001b[0;34m=\u001b[0m\u001b[0mnum_inpp\u001b[0m\u001b[0;34m,\u001b[0m \u001b[0mnum_latent\u001b[0m\u001b[0;34m=\u001b[0m\u001b[0mn_lat\u001b[0m\u001b[0;34m,\u001b[0m \u001b[0muse_dropout\u001b[0m\u001b[0;34m=\u001b[0m\u001b[0muse_dropout\u001b[0m\u001b[0;34m)\u001b[0m\u001b[0;34m\u001b[0m\u001b[0;34m\u001b[0m\u001b[0m\n\u001b[0m\u001b[1;32m    117\u001b[0m         \u001b[0mmodel\u001b[0m\u001b[0;34m.\u001b[0m\u001b[0mto\u001b[0m\u001b[0;34m(\u001b[0m\u001b[0mdevice\u001b[0m\u001b[0;34m)\u001b[0m\u001b[0;34m\u001b[0m\u001b[0;34m\u001b[0m\u001b[0m\n\u001b[1;32m    118\u001b[0m \u001b[0;34m\u001b[0m\u001b[0m\n",
            "\u001b[0;32m<ipython-input-43-4c9cea0d4fef>\u001b[0m in \u001b[0;36m__init__\u001b[0;34m(self, num_inputs, num_latent, tied, num_classes, use_dropout)\u001b[0m\n\u001b[1;32m      7\u001b[0m         \u001b[0mself\u001b[0m\u001b[0;34m.\u001b[0m\u001b[0mnum_latent\u001b[0m \u001b[0;34m=\u001b[0m \u001b[0mnum_latent\u001b[0m\u001b[0;34m\u001b[0m\u001b[0;34m\u001b[0m\u001b[0m\n\u001b[1;32m      8\u001b[0m \u001b[0;34m\u001b[0m\u001b[0m\n\u001b[0;32m----> 9\u001b[0;31m         \u001b[0mself\u001b[0m\u001b[0;34m.\u001b[0m\u001b[0mfc_encoder\u001b[0m \u001b[0;34m=\u001b[0m \u001b[0mnn\u001b[0m\u001b[0;34m.\u001b[0m\u001b[0mLinear\u001b[0m\u001b[0;34m(\u001b[0m\u001b[0mnum_inputs\u001b[0m\u001b[0;34m,\u001b[0m \u001b[0mnum_latent\u001b[0m\u001b[0;34m)\u001b[0m\u001b[0;34m\u001b[0m\u001b[0;34m\u001b[0m\u001b[0m\n\u001b[0m\u001b[1;32m     10\u001b[0m \u001b[0;34m\u001b[0m\u001b[0m\n\u001b[1;32m     11\u001b[0m         \u001b[0;32mif\u001b[0m \u001b[0;32mnot\u001b[0m \u001b[0mtied\u001b[0m\u001b[0;34m:\u001b[0m\u001b[0;34m\u001b[0m\u001b[0;34m\u001b[0m\u001b[0m\n",
            "\u001b[0;32m/usr/local/lib/python3.11/dist-packages/torch/nn/modules/linear.py\u001b[0m in \u001b[0;36m__init__\u001b[0;34m(self, in_features, out_features, bias, device, dtype)\u001b[0m\n\u001b[1;32m    110\u001b[0m         \u001b[0;32melse\u001b[0m\u001b[0;34m:\u001b[0m\u001b[0;34m\u001b[0m\u001b[0;34m\u001b[0m\u001b[0m\n\u001b[1;32m    111\u001b[0m             \u001b[0mself\u001b[0m\u001b[0;34m.\u001b[0m\u001b[0mregister_parameter\u001b[0m\u001b[0;34m(\u001b[0m\u001b[0;34m\"bias\"\u001b[0m\u001b[0;34m,\u001b[0m \u001b[0;32mNone\u001b[0m\u001b[0;34m)\u001b[0m\u001b[0;34m\u001b[0m\u001b[0;34m\u001b[0m\u001b[0m\n\u001b[0;32m--> 112\u001b[0;31m         \u001b[0mself\u001b[0m\u001b[0;34m.\u001b[0m\u001b[0mreset_parameters\u001b[0m\u001b[0;34m(\u001b[0m\u001b[0;34m)\u001b[0m\u001b[0;34m\u001b[0m\u001b[0;34m\u001b[0m\u001b[0m\n\u001b[0m\u001b[1;32m    113\u001b[0m \u001b[0;34m\u001b[0m\u001b[0m\n\u001b[1;32m    114\u001b[0m     \u001b[0;32mdef\u001b[0m \u001b[0mreset_parameters\u001b[0m\u001b[0;34m(\u001b[0m\u001b[0mself\u001b[0m\u001b[0;34m)\u001b[0m \u001b[0;34m->\u001b[0m \u001b[0;32mNone\u001b[0m\u001b[0;34m:\u001b[0m\u001b[0;34m\u001b[0m\u001b[0;34m\u001b[0m\u001b[0m\n",
            "\u001b[0;32m/usr/local/lib/python3.11/dist-packages/torch/nn/modules/linear.py\u001b[0m in \u001b[0;36mreset_parameters\u001b[0;34m(self)\u001b[0m\n\u001b[1;32m    116\u001b[0m         \u001b[0;31m# uniform(-1/sqrt(in_features), 1/sqrt(in_features)). For details, see\u001b[0m\u001b[0;34m\u001b[0m\u001b[0;34m\u001b[0m\u001b[0m\n\u001b[1;32m    117\u001b[0m         \u001b[0;31m# https://github.com/pytorch/pytorch/issues/57109\u001b[0m\u001b[0;34m\u001b[0m\u001b[0;34m\u001b[0m\u001b[0m\n\u001b[0;32m--> 118\u001b[0;31m         \u001b[0minit\u001b[0m\u001b[0;34m.\u001b[0m\u001b[0mkaiming_uniform_\u001b[0m\u001b[0;34m(\u001b[0m\u001b[0mself\u001b[0m\u001b[0;34m.\u001b[0m\u001b[0mweight\u001b[0m\u001b[0;34m,\u001b[0m \u001b[0ma\u001b[0m\u001b[0;34m=\u001b[0m\u001b[0mmath\u001b[0m\u001b[0;34m.\u001b[0m\u001b[0msqrt\u001b[0m\u001b[0;34m(\u001b[0m\u001b[0;36m5\u001b[0m\u001b[0;34m)\u001b[0m\u001b[0;34m)\u001b[0m\u001b[0;34m\u001b[0m\u001b[0;34m\u001b[0m\u001b[0m\n\u001b[0m\u001b[1;32m    119\u001b[0m         \u001b[0;32mif\u001b[0m \u001b[0mself\u001b[0m\u001b[0;34m.\u001b[0m\u001b[0mbias\u001b[0m \u001b[0;32mis\u001b[0m \u001b[0;32mnot\u001b[0m \u001b[0;32mNone\u001b[0m\u001b[0;34m:\u001b[0m\u001b[0;34m\u001b[0m\u001b[0;34m\u001b[0m\u001b[0m\n\u001b[1;32m    120\u001b[0m             \u001b[0mfan_in\u001b[0m\u001b[0;34m,\u001b[0m \u001b[0m_\u001b[0m \u001b[0;34m=\u001b[0m \u001b[0minit\u001b[0m\u001b[0;34m.\u001b[0m\u001b[0m_calculate_fan_in_and_fan_out\u001b[0m\u001b[0;34m(\u001b[0m\u001b[0mself\u001b[0m\u001b[0;34m.\u001b[0m\u001b[0mweight\u001b[0m\u001b[0;34m)\u001b[0m\u001b[0;34m\u001b[0m\u001b[0;34m\u001b[0m\u001b[0m\n",
            "\u001b[0;32m/usr/local/lib/python3.11/dist-packages/torch/nn/init.py\u001b[0m in \u001b[0;36mkaiming_uniform_\u001b[0;34m(tensor, a, mode, nonlinearity, generator)\u001b[0m\n\u001b[1;32m    516\u001b[0m     \u001b[0mbound\u001b[0m \u001b[0;34m=\u001b[0m \u001b[0mmath\u001b[0m\u001b[0;34m.\u001b[0m\u001b[0msqrt\u001b[0m\u001b[0;34m(\u001b[0m\u001b[0;36m3.0\u001b[0m\u001b[0;34m)\u001b[0m \u001b[0;34m*\u001b[0m \u001b[0mstd\u001b[0m  \u001b[0;31m# Calculate uniform bounds from standard deviation\u001b[0m\u001b[0;34m\u001b[0m\u001b[0;34m\u001b[0m\u001b[0m\n\u001b[1;32m    517\u001b[0m     \u001b[0;32mwith\u001b[0m \u001b[0mtorch\u001b[0m\u001b[0;34m.\u001b[0m\u001b[0mno_grad\u001b[0m\u001b[0;34m(\u001b[0m\u001b[0;34m)\u001b[0m\u001b[0;34m:\u001b[0m\u001b[0;34m\u001b[0m\u001b[0;34m\u001b[0m\u001b[0m\n\u001b[0;32m--> 518\u001b[0;31m         \u001b[0;32mreturn\u001b[0m \u001b[0mtensor\u001b[0m\u001b[0;34m.\u001b[0m\u001b[0muniform_\u001b[0m\u001b[0;34m(\u001b[0m\u001b[0;34m-\u001b[0m\u001b[0mbound\u001b[0m\u001b[0;34m,\u001b[0m \u001b[0mbound\u001b[0m\u001b[0;34m,\u001b[0m \u001b[0mgenerator\u001b[0m\u001b[0;34m=\u001b[0m\u001b[0mgenerator\u001b[0m\u001b[0;34m)\u001b[0m\u001b[0;34m\u001b[0m\u001b[0;34m\u001b[0m\u001b[0m\n\u001b[0m\u001b[1;32m    519\u001b[0m \u001b[0;34m\u001b[0m\u001b[0m\n\u001b[1;32m    520\u001b[0m \u001b[0;34m\u001b[0m\u001b[0m\n",
            "\u001b[0;31mKeyboardInterrupt\u001b[0m: "
          ]
        }
      ],
      "source": [
        "import time\n",
        "import numpy as np\n",
        "import torch\n",
        "import functools\n",
        "import os\n",
        "from sklearn.model_selection import StratifiedKFold\n",
        "\n",
        "print(\"🚀 Starting per-center ASD-DiagNet training...\")\n",
        "\n",
        "# Step 1: Validate data availability\n",
        "if 'all_corr' not in globals() or not all_corr:\n",
        "    raise ValueError(\"❌ Error: `all_corr` is empty. Ensure the correlation matrices are loaded.\")\n",
        "\n",
        "if 'flist' not in globals() or not flist:\n",
        "    raise ValueError(\"❌ Error: `flist` is empty. Ensure data files are properly loaded.\")\n",
        "\n",
        "print(f\"✅ all_corr loaded: {len(all_corr)} subjects\")\n",
        "print(f\"✅ flist length: {len(flist)}\")\n",
        "\n",
        "if 'p_center' not in globals():\n",
        "    raise ValueError(\"❌ Error: `p_center` is not defined!\")\n",
        "\n",
        "print(f\"✅ p_center: {p_center}\")\n",
        "\n",
        "# Step 2: Load file list\n",
        "if not os.path.exists(data_main_path):\n",
        "    raise ValueError(f\"❌ Error: Data path '{data_main_path}' does not exist!\")\n",
        "\n",
        "flist = os.listdir(data_main_path)\n",
        "print(f\"✅ Found {len(flist)} files in data path.\")\n",
        "\n",
        "for f in range(len(flist)):\n",
        "    flist[f] = get_key(flist[f])\n",
        "\n",
        "# Organize files by center\n",
        "centers_dict = {}\n",
        "for f in flist:\n",
        "    key = f.split('_')[0]\n",
        "    if key not in centers_dict:\n",
        "        centers_dict[key] = []\n",
        "    centers_dict[key].append(f)\n",
        "\n",
        "# Step 3: Check if `p_center` exists\n",
        "if p_center not in centers_dict:\n",
        "    raise ValueError(f\"❌ Error: Center '{p_center}' not found! Available centers: {list(centers_dict.keys())}\")\n",
        "\n",
        "flist = np.array(centers_dict[p_center])\n",
        "print(f\"✅ Processing {len(flist)} subjects from center: {p_center}\")\n",
        "\n",
        "start = time.time()\n",
        "\n",
        "# Step 4: Print training settings\n",
        "batch_size = 8\n",
        "learning_rate_ae, learning_rate_clf = 0.0001, 0.0001\n",
        "num_epochs = 25\n",
        "p_bernoulli = None\n",
        "augmentation = p_augmentation\n",
        "use_dropout = False\n",
        "aug_factor = 2\n",
        "num_neighbs = 5\n",
        "lim4sim = 2\n",
        "num_corr = len(all_corr[flist[0]][0])\n",
        "n_lat = int(num_corr / 4)\n",
        "\n",
        "print(f\"🔧 Training Parameters: batch_size={batch_size}, num_epochs={num_epochs}, learning_rate={learning_rate_ae}\")\n",
        "print(f\"Augmentation={augmentation}, aug_factor={aug_factor}, num_neighbs={num_neighbs}, lim4sim={lim4sim}, use_dropout={use_dropout}\")\n",
        "\n",
        "sim_function = functools.partial(cal_similarity, lim=lim4sim)\n",
        "all_rp_res = []\n",
        "\n",
        "# Convert file names to labels\n",
        "y_arr = np.array([get_label(f) for f in flist])\n",
        "\n",
        "kk = 0\n",
        "crossval_res_kol_kol = []\n",
        "\n",
        "for rp in range(10):\n",
        "    print(f\"\\n========================\")\n",
        "    print(f\"🚀 Starting Repeat {rp+1}/10\")\n",
        "    crossval_res_kol = []\n",
        "    start_rp = time.time()\n",
        "\n",
        "    kf = StratifiedKFold(n_splits=p_fold, shuffle=True, random_state=1)\n",
        "\n",
        "    # Ensure y_arr matches flist order\n",
        "    y_arr = np.array([get_label(f) for f in flist])\n",
        "\n",
        "    for kk, (train_index, test_index) in enumerate(kf.split(flist, y_arr)):\n",
        "        print(f\"📂 Fold {kk+1}/{p_fold} in Repeat {rp+1}...\")\n",
        "\n",
        "        train_samples, test_samples = flist[train_index], flist[test_index]\n",
        "        verbose = (kk == 0)  # Only print details for first fold\n",
        "\n",
        "        # Extract regions of interest\n",
        "        regions_inds = get_regs(train_samples, int(num_corr / 4))\n",
        "        num_inpp = len(regions_inds)\n",
        "        n_lat = int(num_inpp / 2)\n",
        "\n",
        "        # Load training data\n",
        "        train_loader = get_loader(\n",
        "            data=all_corr, samples_list=train_samples,\n",
        "            batch_size=batch_size, mode='train',\n",
        "            augmentation=augmentation, aug_factor=aug_factor,\n",
        "            num_neighbs=num_neighbs, eig_data=eig_data, similarity_fn=sim_function,\n",
        "            verbose=verbose, regions=regions_inds\n",
        "        )\n",
        "\n",
        "        # Load test data\n",
        "        test_loader = get_loader(\n",
        "            data=all_corr, samples_list=test_samples,\n",
        "            batch_size=batch_size, mode='test',\n",
        "            augmentation=False, verbose=verbose, regions=regions_inds\n",
        "        )\n",
        "\n",
        "        # Initialize Model\n",
        "        model = MTAutoEncoder(tied=True, num_inputs=num_inpp, num_latent=n_lat, use_dropout=use_dropout)\n",
        "        model.to(device)\n",
        "\n",
        "        # Define loss functions\n",
        "        criterion_ae = torch.nn.MSELoss(reduction='sum')\n",
        "        criterion_clf = torch.nn.BCEWithLogitsLoss()\n",
        "        optimizer = torch.optim.SGD([\n",
        "            {'params': model.fc_encoder.parameters(), 'lr': learning_rate_ae},\n",
        "            {'params': model.classifier.parameters(), 'lr': learning_rate_clf}\n",
        "        ], momentum=0.9)\n",
        "\n",
        "        # Training Loop\n",
        "        for epoch in range(1, num_epochs + 1):\n",
        "            if epoch <= 20:\n",
        "                train_losses = train(model, epoch, train_loader, p_bernoulli, mode='both')\n",
        "            else:\n",
        "                train_losses = train(model, epoch, train_loader, p_bernoulli, mode='clf')\n",
        "\n",
        "        # Testing Model Performance\n",
        "        res_mlp = test(model, criterion_ae, test_loader, eval_classifier=True)\n",
        "        print(f\"✅ Fold {kk+1} Results: {res_mlp}\")\n",
        "        crossval_res_kol.append(res_mlp)\n",
        "\n",
        "    # Compute Average of All Folds\n",
        "    repeat_result = np.mean(np.array(crossval_res_kol), axis=0)\n",
        "    print(f\"✅ Result of repeat {rp+1}: {repeat_result}\")\n",
        "\n",
        "    all_rp_res.append(repeat_result)\n",
        "\n",
        "    finish_rp = time.time()\n",
        "    print(f\"✅ Running time for repeat {rp+1}: {finish_rp - start_rp:.2f} seconds\")\n",
        "\n",
        "# Compute Final Averages Across All Repeats\n",
        "final_result = np.mean(np.array(all_rp_res), axis=0)\n",
        "print(f\"\\n✅ Averaged result over 10 repeats: {final_result}\")\n",
        "\n",
        "finish_total = time.time()\n",
        "print(f\"\\n✅ Total execution time: {finish_total - start:.2f} seconds\")\n"
      ]
    },
    {
      "cell_type": "code",
      "execution_count": null,
      "metadata": {
        "id": "io5gWiN0rSEL",
        "colab": {
          "base_uri": "https://localhost:8080/"
        },
        "outputId": "dff41919-eff3-4470-eca3-c0a4d2222738"
      },
      "outputs": [
        {
          "output_type": "stream",
          "name": "stdout",
          "text": [
            "✅ Running classifier training...\n",
            "🚀 Starting Repeat 1/10\n",
            "📂 Fold 1/10 in Repeat 1...\n",
            "✅ Fold 1 Results: (0.75, 0.5, 1.0)\n",
            "📂 Fold 2/10 in Repeat 1...\n",
            "✅ Fold 2 Results: (0.75, 1.0, 0.5)\n",
            "📂 Fold 3/10 in Repeat 1...\n",
            "✅ Fold 3 Results: (0.75, 1.0, 0.5)\n",
            "📂 Fold 4/10 in Repeat 1...\n",
            "✅ Fold 4 Results: (0.75, 0.5, 1.0)\n",
            "📂 Fold 5/10 in Repeat 1...\n",
            "✅ Fold 5 Results: (0.5, 0.0, 1.0)\n",
            "📂 Fold 6/10 in Repeat 1...\n",
            "✅ Fold 6 Results: (0.5, 0.0, 1.0)\n",
            "📂 Fold 7/10 in Repeat 1...\n",
            "✅ Fold 7 Results: (0.6666666666666666, 0.0, 1.0)\n",
            "📂 Fold 8/10 in Repeat 1...\n",
            "✅ Fold 8 Results: (1.0, 1.0, 1.0)\n",
            "📂 Fold 9/10 in Repeat 1...\n",
            "✅ Fold 9 Results: (0.6666666666666666, 0.0, 1.0)\n",
            "📂 Fold 10/10 in Repeat 1...\n",
            "✅ Fold 10 Results: (0.6666666666666666, 0.5, 1.0)\n",
            "✅ Result of repeat 1: [0.7000000000000001, 0.45, 0.9]\n",
            "🚀 Starting Repeat 2/10\n",
            "📂 Fold 1/10 in Repeat 2...\n",
            "✅ Fold 1 Results: (0.5, 0.0, 1.0)\n",
            "📂 Fold 2/10 in Repeat 2...\n",
            "✅ Fold 2 Results: (1.0, 1.0, 1.0)\n",
            "📂 Fold 3/10 in Repeat 2...\n",
            "✅ Fold 3 Results: (0.75, 0.5, 1.0)\n",
            "📂 Fold 4/10 in Repeat 2...\n",
            "✅ Fold 4 Results: (0.75, 0.5, 1.0)\n",
            "📂 Fold 5/10 in Repeat 2...\n",
            "✅ Fold 5 Results: (0.5, 0.0, 1.0)\n",
            "📂 Fold 6/10 in Repeat 2...\n",
            "✅ Fold 6 Results: (0.5, 0.0, 1.0)\n",
            "📂 Fold 7/10 in Repeat 2...\n",
            "✅ Fold 7 Results: (0.3333333333333333, 0.0, 0.5)\n",
            "📂 Fold 8/10 in Repeat 2...\n",
            "✅ Fold 8 Results: (0.6666666666666666, 0.0, 1.0)\n",
            "📂 Fold 9/10 in Repeat 2...\n",
            "✅ Fold 9 Results: (0.3333333333333333, 0.0, 0.5)\n",
            "📂 Fold 10/10 in Repeat 2...\n",
            "✅ Fold 10 Results: (0.3333333333333333, 0.0, 1.0)\n",
            "✅ Result of repeat 2: [0.5666666666666667, 0.2, 0.9]\n",
            "🚀 Starting Repeat 3/10\n",
            "📂 Fold 1/10 in Repeat 3...\n",
            "✅ Fold 1 Results: (0.5, 0.0, 1.0)\n",
            "📂 Fold 2/10 in Repeat 3...\n",
            "✅ Fold 2 Results: (0.25, 0.0, 0.5)\n",
            "📂 Fold 3/10 in Repeat 3...\n",
            "✅ Fold 3 Results: (0.5, 0.0, 1.0)\n",
            "📂 Fold 4/10 in Repeat 3...\n",
            "✅ Fold 4 Results: (0.75, 0.5, 1.0)\n",
            "📂 Fold 5/10 in Repeat 3...\n",
            "✅ Fold 5 Results: (0.5, 0.5, 0.5)\n",
            "📂 Fold 6/10 in Repeat 3...\n",
            "✅ Fold 6 Results: (0.5, 0.0, 1.0)\n",
            "📂 Fold 7/10 in Repeat 3...\n",
            "✅ Fold 7 Results: (1.0, 1.0, 1.0)\n",
            "📂 Fold 8/10 in Repeat 3...\n",
            "✅ Fold 8 Results: (1.0, 1.0, 1.0)\n",
            "📂 Fold 9/10 in Repeat 3...\n",
            "✅ Fold 9 Results: (0.6666666666666666, 0.0, 1.0)\n",
            "📂 Fold 10/10 in Repeat 3...\n",
            "✅ Fold 10 Results: (0.6666666666666666, 0.5, 1.0)\n",
            "✅ Result of repeat 3: [0.6333333333333334, 0.35, 0.9]\n",
            "🚀 Starting Repeat 4/10\n",
            "📂 Fold 1/10 in Repeat 4...\n",
            "✅ Fold 1 Results: (1.0, 1.0, 1.0)\n",
            "📂 Fold 2/10 in Repeat 4...\n",
            "✅ Fold 2 Results: (0.75, 0.5, 1.0)\n",
            "📂 Fold 3/10 in Repeat 4...\n",
            "✅ Fold 3 Results: (0.75, 0.5, 1.0)\n",
            "📂 Fold 4/10 in Repeat 4...\n",
            "✅ Fold 4 Results: (0.5, 0.0, 1.0)\n",
            "📂 Fold 5/10 in Repeat 4...\n",
            "✅ Fold 5 Results: (0.75, 0.5, 1.0)\n",
            "📂 Fold 6/10 in Repeat 4...\n",
            "✅ Fold 6 Results: (0.5, 0.0, 1.0)\n",
            "📂 Fold 7/10 in Repeat 4...\n",
            "✅ Fold 7 Results: (0.3333333333333333, 0.0, 1.0)\n",
            "📂 Fold 8/10 in Repeat 4...\n",
            "✅ Fold 8 Results: (0.6666666666666666, 0.0, 1.0)\n",
            "📂 Fold 9/10 in Repeat 4...\n",
            "✅ Fold 9 Results: (0.3333333333333333, 1.0, 0.0)\n",
            "📂 Fold 10/10 in Repeat 4...\n",
            "✅ Fold 10 Results: (0.6666666666666666, 1.0, 0.5)\n",
            "✅ Result of repeat 4: [0.625, 0.45, 0.85]\n",
            "🚀 Starting Repeat 5/10\n",
            "📂 Fold 1/10 in Repeat 5...\n",
            "✅ Fold 1 Results: (0.75, 0.5, 1.0)\n",
            "📂 Fold 2/10 in Repeat 5...\n",
            "✅ Fold 2 Results: (0.75, 0.5, 1.0)\n",
            "📂 Fold 3/10 in Repeat 5...\n",
            "✅ Fold 3 Results: (0.25, 0.0, 0.5)\n",
            "📂 Fold 4/10 in Repeat 5...\n",
            "✅ Fold 4 Results: (0.5, 0.0, 1.0)\n",
            "📂 Fold 5/10 in Repeat 5...\n",
            "✅ Fold 5 Results: (0.75, 0.5, 1.0)\n",
            "📂 Fold 6/10 in Repeat 5...\n",
            "✅ Fold 6 Results: (0.5, 0.0, 1.0)\n",
            "📂 Fold 7/10 in Repeat 5...\n",
            "✅ Fold 7 Results: (0.3333333333333333, 0.0, 0.5)\n",
            "📂 Fold 8/10 in Repeat 5...\n",
            "✅ Fold 8 Results: (0.0, 0.0, 0.0)\n",
            "📂 Fold 9/10 in Repeat 5...\n",
            "✅ Fold 9 Results: (0.6666666666666666, 0.0, 1.0)\n",
            "📂 Fold 10/10 in Repeat 5...\n",
            "✅ Fold 10 Results: (0.6666666666666666, 0.5, 1.0)\n",
            "✅ Result of repeat 5: [0.5166666666666667, 0.2, 0.8]\n",
            "🚀 Starting Repeat 6/10\n",
            "📂 Fold 1/10 in Repeat 6...\n",
            "✅ Fold 1 Results: (0.5, 0.5, 0.5)\n",
            "📂 Fold 2/10 in Repeat 6...\n",
            "✅ Fold 2 Results: (0.5, 0.0, 1.0)\n",
            "📂 Fold 3/10 in Repeat 6...\n",
            "✅ Fold 3 Results: (0.5, 0.0, 1.0)\n",
            "📂 Fold 4/10 in Repeat 6...\n",
            "✅ Fold 4 Results: (0.75, 0.5, 1.0)\n",
            "📂 Fold 5/10 in Repeat 6...\n",
            "✅ Fold 5 Results: (0.5, 0.0, 1.0)\n",
            "📂 Fold 6/10 in Repeat 6...\n",
            "✅ Fold 6 Results: (0.5, 0.0, 1.0)\n",
            "📂 Fold 7/10 in Repeat 6...\n",
            "✅ Fold 7 Results: (0.6666666666666666, 0.5, 1.0)\n",
            "📂 Fold 8/10 in Repeat 6...\n",
            "✅ Fold 8 Results: (0.6666666666666666, 0.0, 1.0)\n",
            "📂 Fold 9/10 in Repeat 6...\n",
            "✅ Fold 9 Results: (0.6666666666666666, 0.0, 1.0)\n",
            "📂 Fold 10/10 in Repeat 6...\n",
            "✅ Fold 10 Results: (1.0, 1.0, 1.0)\n",
            "✅ Result of repeat 6: [0.625, 0.25, 0.95]\n",
            "🚀 Starting Repeat 7/10\n",
            "📂 Fold 1/10 in Repeat 7...\n",
            "✅ Fold 1 Results: (0.5, 0.0, 1.0)\n",
            "📂 Fold 2/10 in Repeat 7...\n",
            "✅ Fold 2 Results: (0.5, 0.0, 1.0)\n",
            "📂 Fold 3/10 in Repeat 7...\n",
            "✅ Fold 3 Results: (1.0, 1.0, 1.0)\n",
            "📂 Fold 4/10 in Repeat 7...\n",
            "✅ Fold 4 Results: (0.5, 0.0, 1.0)\n",
            "📂 Fold 5/10 in Repeat 7...\n",
            "✅ Fold 5 Results: (1.0, 1.0, 1.0)\n",
            "📂 Fold 6/10 in Repeat 7...\n",
            "✅ Fold 6 Results: (0.5, 0.0, 1.0)\n",
            "📂 Fold 7/10 in Repeat 7...\n",
            "✅ Fold 7 Results: (1.0, 1.0, 1.0)\n",
            "📂 Fold 8/10 in Repeat 7...\n",
            "✅ Fold 8 Results: (0.6666666666666666, 1.0, 0.5)\n",
            "📂 Fold 9/10 in Repeat 7...\n",
            "✅ Fold 9 Results: (0.3333333333333333, 0.0, 0.5)\n",
            "📂 Fold 10/10 in Repeat 7...\n",
            "✅ Fold 10 Results: (0.3333333333333333, 0.0, 1.0)\n",
            "✅ Result of repeat 7: [0.6333333333333333, 0.4, 0.9]\n",
            "🚀 Starting Repeat 8/10\n",
            "📂 Fold 1/10 in Repeat 8...\n",
            "✅ Fold 1 Results: (0.75, 0.5, 1.0)\n",
            "📂 Fold 2/10 in Repeat 8...\n",
            "✅ Fold 2 Results: (0.5, 0.0, 1.0)\n",
            "📂 Fold 3/10 in Repeat 8...\n",
            "✅ Fold 3 Results: (0.75, 0.5, 1.0)\n",
            "📂 Fold 4/10 in Repeat 8...\n",
            "✅ Fold 4 Results: (0.75, 0.5, 1.0)\n",
            "📂 Fold 5/10 in Repeat 8...\n",
            "✅ Fold 5 Results: (0.25, 0.0, 0.5)\n",
            "📂 Fold 6/10 in Repeat 8...\n",
            "✅ Fold 6 Results: (0.75, 0.5, 1.0)\n",
            "📂 Fold 7/10 in Repeat 8...\n",
            "✅ Fold 7 Results: (0.6666666666666666, 0.5, 1.0)\n",
            "📂 Fold 8/10 in Repeat 8...\n",
            "✅ Fold 8 Results: (0.3333333333333333, 0.0, 0.5)\n",
            "📂 Fold 9/10 in Repeat 8...\n",
            "✅ Fold 9 Results: (0.6666666666666666, 0.0, 1.0)\n",
            "📂 Fold 10/10 in Repeat 8...\n",
            "✅ Fold 10 Results: (0.3333333333333333, 0.0, 0.5)\n",
            "✅ Result of repeat 8: [0.575, 0.25, 0.85]\n",
            "🚀 Starting Repeat 9/10\n",
            "📂 Fold 1/10 in Repeat 9...\n",
            "✅ Fold 1 Results: (0.25, 0.0, 0.5)\n",
            "📂 Fold 2/10 in Repeat 9...\n",
            "✅ Fold 2 Results: (0.5, 0.0, 1.0)\n",
            "📂 Fold 3/10 in Repeat 9...\n",
            "✅ Fold 3 Results: (0.75, 0.5, 1.0)\n",
            "📂 Fold 4/10 in Repeat 9...\n",
            "✅ Fold 4 Results: (0.5, 0.0, 1.0)\n",
            "📂 Fold 5/10 in Repeat 9...\n",
            "✅ Fold 5 Results: (0.75, 0.5, 1.0)\n",
            "📂 Fold 6/10 in Repeat 9...\n",
            "✅ Fold 6 Results: (1.0, 1.0, 1.0)\n",
            "📂 Fold 7/10 in Repeat 9...\n",
            "✅ Fold 7 Results: (0.6666666666666666, 0.0, 1.0)\n",
            "📂 Fold 8/10 in Repeat 9...\n",
            "✅ Fold 8 Results: (0.6666666666666666, 0.0, 1.0)\n",
            "📂 Fold 9/10 in Repeat 9...\n",
            "✅ Fold 9 Results: (0.3333333333333333, 1.0, 0.0)\n",
            "📂 Fold 10/10 in Repeat 9...\n",
            "✅ Fold 10 Results: (0.3333333333333333, 0.0, 1.0)\n",
            "✅ Result of repeat 9: [0.575, 0.3, 0.85]\n",
            "🚀 Starting Repeat 10/10\n",
            "📂 Fold 1/10 in Repeat 10...\n",
            "✅ Fold 1 Results: (0.75, 0.5, 1.0)\n",
            "📂 Fold 2/10 in Repeat 10...\n",
            "✅ Fold 2 Results: (0.25, 0.0, 0.5)\n",
            "📂 Fold 3/10 in Repeat 10...\n",
            "✅ Fold 3 Results: (0.75, 0.5, 1.0)\n",
            "📂 Fold 4/10 in Repeat 10...\n",
            "✅ Fold 4 Results: (0.75, 0.5, 1.0)\n",
            "📂 Fold 5/10 in Repeat 10...\n",
            "✅ Fold 5 Results: (0.5, 0.0, 1.0)\n",
            "📂 Fold 6/10 in Repeat 10...\n",
            "✅ Fold 6 Results: (0.5, 0.0, 1.0)\n",
            "📂 Fold 7/10 in Repeat 10...\n",
            "✅ Fold 7 Results: (0.6666666666666666, 0.0, 1.0)\n",
            "📂 Fold 8/10 in Repeat 10...\n",
            "✅ Fold 8 Results: (0.3333333333333333, 0.0, 0.5)\n",
            "📂 Fold 9/10 in Repeat 10...\n",
            "✅ Fold 9 Results: (0.6666666666666666, 0.0, 1.0)\n",
            "📂 Fold 10/10 in Repeat 10...\n",
            "✅ Fold 10 Results: (0.3333333333333333, 0.0, 1.0)\n",
            "✅ Result of repeat 10: [0.55, 0.15, 0.9]\n",
            "--------------- Result of repeating 10 times -------------------\n",
            "✅ Final Averaged Result: [0.6, 0.29999999999999993, 0.8800000000000001]\n"
          ]
        }
      ],
      "source": [
        "print(\"✅ Running classifier training...\")  # Debugging print\n",
        "\n",
        "clf = SVC(gamma='auto') if p_Method == 'SVM' else RandomForestClassifier(n_estimators=100)\n",
        "overall_result = []\n",
        "\n",
        "for rp in range(10):\n",
        "    print(f\"🚀 Starting Repeat {rp+1}/10\")\n",
        "    kf = StratifiedKFold(n_splits=p_fold, random_state=1, shuffle=True)\n",
        "    np.random.shuffle(flist)\n",
        "    y_arr = np.array([get_label(f) for f in flist])\n",
        "    res = []\n",
        "\n",
        "    for kk, (train_index, test_index) in enumerate(kf.split(flist, y_arr)):\n",
        "        print(f\"📂 Fold {kk+1}/10 in Repeat {rp+1}...\")\n",
        "        train_samples, test_samples = np.array(flist)[train_index], np.array(flist)[test_index]\n",
        "        train_data, train_labels, test_data, test_labels = [], [], [], []\n",
        "\n",
        "        for i in train_samples:\n",
        "            train_data.append(all_corr[i][0])\n",
        "            train_labels.append(all_corr[i][1])\n",
        "\n",
        "        for i in test_samples:\n",
        "            test_data.append(all_corr[i][0])\n",
        "            test_labels.append(all_corr[i][1])\n",
        "\n",
        "        clf.fit(train_data, train_labels)\n",
        "        pr = clf.predict(test_data)\n",
        "        fold_result = confusion(test_labels, pr)\n",
        "        print(f\"✅ Fold {kk+1} Results: {fold_result}\")\n",
        "        res.append(fold_result)\n",
        "\n",
        "    repeat_result = np.mean(res, axis=0).tolist()\n",
        "    print(f\"✅ Result of repeat {rp+1}: {repeat_result}\")\n",
        "    overall_result.append(repeat_result)\n",
        "\n",
        "print(\"--------------- Result of repeating 10 times -------------------\")\n",
        "final_result = np.mean(np.array(overall_result), axis=0).tolist()\n",
        "print(f\"✅ Final Averaged Result: {final_result}\")\n"
      ]
    },
    {
      "cell_type": "code",
      "execution_count": null,
      "metadata": {
        "id": "UDIpvFiorSEL",
        "colab": {
          "base_uri": "https://localhost:8080/"
        },
        "outputId": "b8e1f9cd-ad81-488d-c801-1058da3572ce"
      },
      "outputs": [
        {
          "output_type": "stream",
          "name": "stdout",
          "text": [
            "p_Method: ASD-DiagNet\n",
            "p_mode: whole\n",
            "🚀 Starting Repeat 1/10\n",
            "repeat: 0 [[1.7, 0.2], [1.4, 0.3]]\n",
            "🚀 Starting Repeat 2/10\n",
            "repeat: 1 [[1.4, 0.5], [1.2, 0.5]]\n",
            "🚀 Starting Repeat 3/10\n",
            "repeat: 2 [[1.5, 0.4], [1.3, 0.4]]\n",
            "🚀 Starting Repeat 4/10\n",
            "repeat: 3 [[1.8, 0.1], [1.2, 0.5]]\n",
            "🚀 Starting Repeat 5/10\n",
            "repeat: 4 [[1.9, 0.0], [1.4, 0.3]]\n",
            "🚀 Starting Repeat 6/10\n",
            "repeat: 5 [[1.7, 0.2], [1.1, 0.6]]\n",
            "🚀 Starting Repeat 7/10\n",
            "repeat: 6 [[1.5, 0.4], [1.5, 0.2]]\n",
            "🚀 Starting Repeat 8/10\n",
            "repeat: 7 [[1.6, 0.3], [1.3, 0.4]]\n",
            "🚀 Starting Repeat 9/10\n",
            "repeat: 8 [[1.7, 0.2], [1.2, 0.5]]\n",
            "🚀 Starting Repeat 10/10\n",
            "repeat: 9 [[1.6, 0.3], [1.1, 0.6]]\n",
            "---------------Result of repeating 10 times for: Stanford -------------------\n",
            "[[1.64, 0.26], [1.27, 0.43]]\n"
          ]
        }
      ],
      "source": [
        "import random\n",
        "import numpy as np\n",
        "from sklearn.metrics import confusion_matrix\n",
        "\n",
        "random.seed(19)\n",
        "np.random.seed(19)\n",
        "\n",
        "print(\"p_Method:\", p_Method)\n",
        "print(\"p_mode:\", p_mode)\n",
        "\n",
        "if p_mode in [\"whole\", \"percenter\"]:\n",
        "    if 'flist' not in globals() or len(flist) == 0:\n",
        "        raise ValueError(\"❌ Error: `flist` is empty or not defined. Ensure it is initialized.\")\n",
        "    if 'all_corr' not in globals() or len(all_corr) == 0:\n",
        "        raise ValueError(\"❌ Error: `all_corr` is empty or not defined. Ensure it is initialized.\")\n",
        "\n",
        "    clf = SVC(gamma='auto') if p_Method == 'SVM' else RandomForestClassifier(n_estimators=100)\n",
        "    overall_result = []\n",
        "\n",
        "    for rp in range(10):\n",
        "        print(f\"🚀 Starting Repeat {rp+1}/10\")\n",
        "        kf = StratifiedKFold(n_splits=p_fold, random_state=1, shuffle=True)\n",
        "        np.random.shuffle(flist)\n",
        "\n",
        "        try:\n",
        "            y_arr = np.array([get_label(f) for f in flist])\n",
        "        except ValueError as e:\n",
        "            print(f\"Error in get_label: {e}\")\n",
        "            continue\n",
        "\n",
        "        res = []\n",
        "        for kk, (train_index, test_index) in enumerate(kf.split(flist, y_arr)):\n",
        "            train_samples, test_samples = np.array(flist)[train_index], np.array(flist)[test_index]\n",
        "            train_data, train_labels = [], []\n",
        "            test_data, test_labels = [], []\n",
        "\n",
        "            for i in train_samples:\n",
        "                if i not in all_corr:\n",
        "                    print(f\"Skipping {i}, not found in all_corr.\")\n",
        "                    continue\n",
        "                train_data.append(all_corr[i][0])\n",
        "                train_labels.append(all_corr[i][1])\n",
        "\n",
        "            for i in test_samples:\n",
        "                if i not in all_corr:\n",
        "                    print(f\"Skipping {i}, not found in all_corr.\")\n",
        "                    continue\n",
        "                test_data.append(all_corr[i][0])\n",
        "                test_labels.append(all_corr[i][1])\n",
        "\n",
        "            train_data = np.array(train_data)\n",
        "            train_labels = np.array(train_labels)\n",
        "            test_data = np.array(test_data)\n",
        "            test_labels = np.array(test_labels)\n",
        "\n",
        "            if len(train_data) == 0 or len(test_data) == 0:\n",
        "                print(\"Skipping fold due to empty train/test data.\")\n",
        "                continue\n",
        "\n",
        "            clf.fit(train_data, train_labels)\n",
        "            pr = clf.predict(test_data)\n",
        "            res.append(confusion_matrix(test_labels, pr))\n",
        "\n",
        "        print(\"repeat:\", rp, np.mean(res, axis=0).tolist())\n",
        "        overall_result.append(np.mean(res, axis=0).tolist())\n",
        "\n",
        "    print(\"---------------Result of repeating 10 times for:\", p_center, \"-------------------\")\n",
        "    print(np.mean(np.array(overall_result), axis=0).tolist())\n",
        "else:\n",
        "    print(\"Condition not met for running the classifier.\")\n"
      ]
    },
    {
      "cell_type": "code",
      "source": [
        "import matplotlib.pyplot as plt\n",
        "import numpy as np\n",
        "\n",
        "# Mean confusion matrix values from the output\n",
        "conf_matrix_mean = np.array([[1.64, 0.26], [1.27, 0.43]])\n",
        "\n",
        "# Plotting the confusion matrix\n",
        "plt.figure(figsize=(8, 6))\n",
        "plt.imshow(conf_matrix_mean, interpolation='nearest', cmap=plt.cm.Blues)\n",
        "plt.title(\"Mean Confusion Matrix (10 Repeats)\")\n",
        "plt.colorbar()\n",
        "\n",
        "classes = ['ASD', 'Healthy']\n",
        "tick_marks = np.arange(len(classes))\n",
        "plt.xticks(tick_marks, classes, rotation=45)\n",
        "plt.yticks(tick_marks, classes)\n",
        "\n",
        "# Adding values to each cell\n",
        "thresh = conf_matrix_mean.max() / 2.\n",
        "for i, j in np.ndindex(conf_matrix_mean.shape):\n",
        "    plt.text(j, i, format(conf_matrix_mean[i, j], \".2f\"),\n",
        "             horizontalalignment=\"center\",\n",
        "             color=\"white\" if conf_matrix_mean[i, j] > thresh else \"black\")\n",
        "\n",
        "plt.ylabel('True Label')\n",
        "plt.xlabel('Predicted Label')\n",
        "plt.tight_layout()\n",
        "plt.show()\n"
      ],
      "metadata": {
        "colab": {
          "base_uri": "https://localhost:8080/",
          "height": 607
        },
        "id": "FCPF7aJ5fF7r",
        "outputId": "0e695374-f6bb-43cf-e59f-2ee4ae9ce754"
      },
      "execution_count": null,
      "outputs": [
        {
          "output_type": "display_data",
          "data": {
            "text/plain": [
              "<Figure size 800x600 with 2 Axes>"
            ],
            "image/png": "[encoded data removed]"
          },
          "metadata": {}
        }
      ]
    },
    {
      "cell_type": "code",
      "source": [
        "# Generate sample accuracy data for 10 repeats (based on typical confusion matrix calculations)\n",
        "# Accuracy = (TP + TN) / (TP + TN + FP + FN)\n",
        "accuracy_per_repeat = [\n",
        "    (1.7 + 1.4) / (1.7 + 0.2 + 1.4 + 0.3),\n",
        "    (1.4 + 1.2) / (1.4 + 0.5 + 1.2 + 0.5),\n",
        "    (1.5 + 1.3) / (1.5 + 0.4 + 1.3 + 0.4),\n",
        "    (1.8 + 1.2) / (1.8 + 0.1 + 1.2 + 0.5),\n",
        "    (1.9 + 1.4) / (1.9 + 0.0 + 1.4 + 0.3),\n",
        "    (1.7 + 1.1) / (1.7 + 0.2 + 1.1 + 0.6),\n",
        "    (1.5 + 1.5) / (1.5 + 0.4 + 1.5 + 0.2),\n",
        "    (1.6 + 1.3) / (1.6 + 0.3 + 1.3 + 0.4),\n",
        "    (1.7 + 1.2) / (1.7 + 0.2 + 1.2 + 0.5),\n",
        "    (1.6 + 1.1) / (1.6 + 0.3 + 1.1 + 0.6)\n",
        "]\n",
        "\n",
        "# Plot accuracy for each repeat\n",
        "plt.figure(figsize=(10, 6))\n",
        "plt.plot(range(1, 11), accuracy_per_repeat, marker='o', linestyle='-', color='b', label='Accuracy')\n",
        "plt.axhline(y=np.mean(accuracy_per_repeat), color='r', linestyle='--', label='Mean Accuracy')\n",
        "plt.title(\"Accuracy per Repeat (10-Fold Cross-Validation)\")\n",
        "plt.xlabel(\"Repeat Number\")\n",
        "plt.ylabel(\"Accuracy\")\n",
        "plt.xticks(range(1, 11))\n",
        "plt.ylim(0.5, 1.0)  # Setting a reasonable accuracy range for visualization\n",
        "plt.legend()\n",
        "plt.grid(True)\n",
        "plt.show()\n"
      ],
      "metadata": {
        "colab": {
          "base_uri": "https://localhost:8080/",
          "height": 564
        },
        "id": "XZLTZWc6fGSj",
        "outputId": "5158b705-133f-4bce-ea7d-bf26ba5d5fbd"
      },
      "execution_count": null,
      "outputs": [
        {
          "output_type": "display_data",
          "data": {
            "text/plain": [
              "<Figure size 1000x600 with 1 Axes>"
            ],
            "image/png": "[encoded data removed]"
          },
          "metadata": {}
        }
      ]
    }
  ],
  "metadata": {
    "celltoolbar": "Tags",
    "kernelspec": {
      "display_name": "Python 3",
      "name": "python3"
    },
    "language_info": {
      "codemirror_mode": {
        "name": "ipython",
        "version": 3
      },
      "file_extension": ".py",
      "mimetype": "text/x-python",
      "name": "python",
      "nbconvert_exporter": "python",
      "pygments_lexer": "ipython3",
      "version": "3.7.0"
    },
    "colab": {
      "provenance": [],
      "machine_shape": "hm",
      "gpuType": "A100",
      "include_colab_link": true
    },
    "accelerator": "GPU"
  },
  "nbformat": 4,
  "nbformat_minor": 0
}